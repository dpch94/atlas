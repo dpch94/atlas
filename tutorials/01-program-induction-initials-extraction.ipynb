{
 "cells": [
  {
   "cell_type": "markdown",
   "metadata": {},
   "source": [
    "## Program Induction using Atlas ##"
   ]
  },
  {
   "cell_type": "markdown",
   "metadata": {},
   "source": [
    "We will use Atlas generators to write a program to extract initials from full names of people. Although it is fairly easy to write a traditional program to achieve the same task using simple string operations, things can get messy if the names are in a variety of formats (for example *optionally* prefixed with Mr. or Ms. or Mrs.). Hence we'll use ``Select`` operators to extract initials individually and then combine them into the required suitable format (for example ``{first-name-initial}.{last-name-initial}``.)"
   ]
  },
  {
   "cell_type": "markdown",
   "metadata": {},
   "source": [
    "### Writing the Generator ###"
   ]
  },
  {
   "cell_type": "markdown",
   "metadata": {},
   "source": [
    "First let us define the generator along the lines of the description above. The input to the generator is the name of the person. We use two ``Select`` calls to choose the initials corresponding to the first and last names respectively. We then construct the final output by interleaving the initials with a `.`"
   ]
  },
  {
   "cell_type": "code",
   "execution_count": 1,
   "metadata": {},
   "outputs": [],
   "source": [
    "from atlas import generator\n",
    "\n",
    "@generator\n",
    "def get_initials(name: str):\n",
    "    #  Initial corresponding to the first name\n",
    "    first_initial = Select(name)\n",
    "    #  Initial corresponding to the last name\n",
    "    last_initial = Select(name)\n",
    "    #  Combine the two\n",
    "    return f\"{first_initial}.{last_initial}.\""
   ]
  },
  {
   "cell_type": "markdown",
   "metadata": {},
   "source": [
    "The definition is expectedly simple. However, this generator by itself is not very useful for computing initials. That is, calling ``get_initials.generate`` simply returns all possible pairings of characters from the input separated by the `.`."
   ]
  },
  {
   "cell_type": "code",
   "execution_count": 2,
   "metadata": {},
   "outputs": [
    {
     "data": {
      "text/plain": [
       "['A.A.',\n",
       " 'A.l.',\n",
       " 'A.a.',\n",
       " 'A.n.',\n",
       " 'A. .',\n",
       " 'A.T.',\n",
       " 'A.u.',\n",
       " 'A.r.',\n",
       " 'A.i.',\n",
       " 'A.n.',\n",
       " 'A.g.',\n",
       " 'l.A.',\n",
       " 'l.l.',\n",
       " 'l.a.',\n",
       " 'l.n.',\n",
       " 'l. .',\n",
       " 'l.T.',\n",
       " 'l.u.',\n",
       " 'l.r.',\n",
       " 'l.i.',\n",
       " 'l.n.',\n",
       " 'l.g.',\n",
       " 'a.A.',\n",
       " 'a.l.',\n",
       " 'a.a.',\n",
       " 'a.n.',\n",
       " 'a. .',\n",
       " 'a.T.',\n",
       " 'a.u.',\n",
       " 'a.r.',\n",
       " 'a.i.',\n",
       " 'a.n.',\n",
       " 'a.g.',\n",
       " 'n.A.',\n",
       " 'n.l.',\n",
       " 'n.a.',\n",
       " 'n.n.',\n",
       " 'n. .',\n",
       " 'n.T.',\n",
       " 'n.u.',\n",
       " 'n.r.',\n",
       " 'n.i.',\n",
       " 'n.n.',\n",
       " 'n.g.',\n",
       " ' .A.',\n",
       " ' .l.',\n",
       " ' .a.',\n",
       " ' .n.',\n",
       " ' . .',\n",
       " ' .T.',\n",
       " ' .u.',\n",
       " ' .r.',\n",
       " ' .i.',\n",
       " ' .n.',\n",
       " ' .g.',\n",
       " 'T.A.',\n",
       " 'T.l.',\n",
       " 'T.a.',\n",
       " 'T.n.',\n",
       " 'T. .',\n",
       " 'T.T.',\n",
       " 'T.u.',\n",
       " 'T.r.',\n",
       " 'T.i.',\n",
       " 'T.n.',\n",
       " 'T.g.',\n",
       " 'u.A.',\n",
       " 'u.l.',\n",
       " 'u.a.',\n",
       " 'u.n.',\n",
       " 'u. .',\n",
       " 'u.T.',\n",
       " 'u.u.',\n",
       " 'u.r.',\n",
       " 'u.i.',\n",
       " 'u.n.',\n",
       " 'u.g.',\n",
       " 'r.A.',\n",
       " 'r.l.',\n",
       " 'r.a.',\n",
       " 'r.n.',\n",
       " 'r. .',\n",
       " 'r.T.',\n",
       " 'r.u.',\n",
       " 'r.r.',\n",
       " 'r.i.',\n",
       " 'r.n.',\n",
       " 'r.g.',\n",
       " 'i.A.',\n",
       " 'i.l.',\n",
       " 'i.a.',\n",
       " 'i.n.',\n",
       " 'i. .',\n",
       " 'i.T.',\n",
       " 'i.u.',\n",
       " 'i.r.',\n",
       " 'i.i.',\n",
       " 'i.n.',\n",
       " 'i.g.',\n",
       " 'n.A.',\n",
       " 'n.l.',\n",
       " 'n.a.',\n",
       " 'n.n.',\n",
       " 'n. .',\n",
       " 'n.T.',\n",
       " 'n.u.',\n",
       " 'n.r.',\n",
       " 'n.i.',\n",
       " 'n.n.',\n",
       " 'n.g.',\n",
       " 'g.A.',\n",
       " 'g.l.',\n",
       " 'g.a.',\n",
       " 'g.n.',\n",
       " 'g. .',\n",
       " 'g.T.',\n",
       " 'g.u.',\n",
       " 'g.r.',\n",
       " 'g.i.',\n",
       " 'g.n.',\n",
       " 'g.g.']"
      ]
     },
     "execution_count": 2,
     "metadata": {},
     "output_type": "execute_result"
    }
   ],
   "source": [
    "list(get_initials.generate('Alan Turing'))"
   ]
  },
  {
   "cell_type": "markdown",
   "metadata": {},
   "source": [
    "What we need is a **trained** ``get_initials`` to return correct values (`'A.T.'` in this case) earlier than the other incorrect values."
   ]
  },
  {
   "cell_type": "markdown",
   "metadata": {},
   "source": [
    "### The Data-Set ###"
   ]
  },
  {
   "cell_type": "markdown",
   "metadata": {},
   "source": [
    "First let us prepare a dataset containing input-output pairs for the initial extraction task described above. We have two files `training.csv` and `validation.csv` containing the required training and validation data."
   ]
  },
  {
   "cell_type": "code",
   "execution_count": 3,
   "metadata": {},
   "outputs": [
    {
     "data": {
      "text/html": [
       "<div>\n",
       "<style scoped>\n",
       "    .dataframe tbody tr th:only-of-type {\n",
       "        vertical-align: middle;\n",
       "    }\n",
       "\n",
       "    .dataframe tbody tr th {\n",
       "        vertical-align: top;\n",
       "    }\n",
       "\n",
       "    .dataframe thead th {\n",
       "        text-align: right;\n",
       "    }\n",
       "</style>\n",
       "<table border=\"1\" class=\"dataframe\">\n",
       "  <thead>\n",
       "    <tr style=\"text-align: right;\">\n",
       "      <th></th>\n",
       "      <th>name</th>\n",
       "      <th>initials</th>\n",
       "    </tr>\n",
       "  </thead>\n",
       "  <tbody>\n",
       "    <tr>\n",
       "      <th>0</th>\n",
       "      <td>Traxton Preston</td>\n",
       "      <td>T.P.</td>\n",
       "    </tr>\n",
       "    <tr>\n",
       "      <th>1</th>\n",
       "      <td>Mrs. Christianne Bousfield</td>\n",
       "      <td>C.B.</td>\n",
       "    </tr>\n",
       "    <tr>\n",
       "      <th>2</th>\n",
       "      <td>Ms. Scotlynn Heed</td>\n",
       "      <td>S.H.</td>\n",
       "    </tr>\n",
       "    <tr>\n",
       "      <th>3</th>\n",
       "      <td>Findlay Gael</td>\n",
       "      <td>F.G.</td>\n",
       "    </tr>\n",
       "    <tr>\n",
       "      <th>4</th>\n",
       "      <td>Mr. Shahryar Brickell</td>\n",
       "      <td>S.B.</td>\n",
       "    </tr>\n",
       "  </tbody>\n",
       "</table>\n",
       "</div>"
      ],
      "text/plain": [
       "                         name initials\n",
       "0             Traxton Preston     T.P.\n",
       "1  Mrs. Christianne Bousfield     C.B.\n",
       "2           Ms. Scotlynn Heed     S.H.\n",
       "3                Findlay Gael     F.G.\n",
       "4       Mr. Shahryar Brickell     S.B."
      ]
     },
     "execution_count": 3,
     "metadata": {},
     "output_type": "execute_result"
    }
   ],
   "source": [
    "import pandas as pd\n",
    "train_df = pd.read_csv('https://atlas-tutorial-initial-extraction.s3.us-east-2.amazonaws.com/training.csv', index_col=0)\n",
    "valid_df = pd.read_csv('https://atlas-tutorial-initial-extraction.s3.us-east-2.amazonaws.com/validation.csv', index_col=0)\n",
    "train_df.head(5)"
   ]
  },
  {
   "cell_type": "markdown",
   "metadata": {},
   "source": [
    "As you can see, the data has two columns ``name`` and ``initials`` as the input and output values respectively. The ``name`` column contains names in a variety of formats as can be seen in the first five entries. Hence the initial extraction task is not so trivial."
   ]
  },
  {
   "cell_type": "markdown",
   "metadata": {},
   "source": [
    "### Creating Demonstration Data ###\n",
    "To train ``get_initials``, we are going to use imitation learning. That is, we will tell ``get_initials`` which one of its many execution paths (i.e. operator choices) is the correct one for a given input. More concretely, for a given input to ``get_initials`` we will provide the correct choices to be made by both of the ``Select`` operators.\n",
    "\n",
    "However, such data is not readily available. We only have the right output for a given input to ``get_initials``. Where do we get this data?\n",
    "\n",
    "One easy approach is to trace the executions of `get_initials` when we call ``generate`` on it and only keep the one where it returns the right output. The trace would contain the operator choices made in that particular run of ``get_initials`` which is exactly what we need. Atlas provides easy-to-use utilities which makes this extraction very easy."
   ]
  },
  {
   "cell_type": "code",
   "execution_count": 4,
   "metadata": {
    "scrolled": true
   },
   "outputs": [
    {
     "name": "stdout",
     "output_type": "stream",
     "text": [
      "\n",
      "        GeneratorTrace(inputs=(('Alan Turing',), {}),\n",
      "                       op_traces=[\n",
      "OpTrace(op_info=OpInfo(sid='/get_initials/Select@@1', gen_name='get_initials', op_type='Select', index=1, gen_group=None, uid=None, tags=None),\n",
      "        choice='A',\n",
      "        domain='Alan Turing',\n",
      "        context=None,\n",
      "        **{}\n",
      "       ), \n",
      "OpTrace(op_info=OpInfo(sid='/get_initials/Select@@2', gen_name='get_initials', op_type='Select', index=2, gen_group=None, uid=None, tags=None),\n",
      "        choice='T',\n",
      "        domain='Alan Turing',\n",
      "        context=None,\n",
      "        **{}\n",
      "       )]\n",
      "\n"
     ]
    }
   ],
   "source": [
    "correct_trace = None\n",
    "for output, trace in get_initials.with_env(tracing=True).generate('Alan Turing'):\n",
    "    if output == 'A.T.':\n",
    "        correct_trace = trace\n",
    "        break\n",
    "        \n",
    "print(correct_trace)"
   ]
  },
  {
   "cell_type": "markdown",
   "metadata": {},
   "source": [
    "We can see that the trace collected above is an instance of a ``GeneratorTrace`` object which has tracked the input to the generator as well as the various operator choices made along with some other meta-data for Atlas' internal use.\n",
    "\n",
    "However doing this for all data-points may take too long as we are exploring a quadratic (in the size of ``name``) number of possible generator executions. We can speed this up by exploiting the fact that given the output, it is easy to reverse engineer the choices to be made by each operator ourselves (first two elements after `split`-ing on the `.`). Let us see the API Atlas provides to achieve this.\n",
    "\n",
    "#### 1. Add unique labels to operators"
   ]
  },
  {
   "cell_type": "code",
   "execution_count": 5,
   "metadata": {},
   "outputs": [],
   "source": [
    "@generator\n",
    "def get_initials(name: str):\n",
    "    #  Initial corresponding to the first name\n",
    "    first_initial = Select(name, uid=\"first\")\n",
    "    #  Initial corresponding to the last name\n",
    "    last_initial = Select(name, uid=\"last\")\n",
    "    #  Combine the two\n",
    "    return f\"{first_initial}.{last_initial}.\""
   ]
  },
  {
   "cell_type": "markdown",
   "metadata": {},
   "source": [
    "#### 2. Make the generator replay the right choices "
   ]
  },
  {
   "cell_type": "code",
   "execution_count": 6,
   "metadata": {},
   "outputs": [
    {
     "name": "stdout",
     "output_type": "stream",
     "text": [
      "\n",
      "        GeneratorTrace(inputs=(('Alan Turing',), {}),\n",
      "                       op_traces=[\n",
      "OpTrace(op_info=OpInfo(sid='/get_initials/Select@first@1', gen_name='get_initials', op_type='Select', index=1, gen_group=None, uid='first', tags=None),\n",
      "        choice='A',\n",
      "        domain='Alan Turing',\n",
      "        context=None,\n",
      "        **{}\n",
      "       ), \n",
      "OpTrace(op_info=OpInfo(sid='/get_initials/Select@last@2', gen_name='get_initials', op_type='Select', index=2, gen_group=None, uid='last', tags=None),\n",
      "        choice='T',\n",
      "        domain='Alan Turing',\n",
      "        context=None,\n",
      "        **{}\n",
      "       )]\n",
      "\n"
     ]
    }
   ],
   "source": [
    "_, correct_trace = get_initials.with_env(replay={\"first\": [\"A\"], \"last\": [\"T\"]}, tracing=True).call('Alan Turing')\n",
    "print(correct_trace)"
   ]
  },
  {
   "cell_type": "markdown",
   "metadata": {},
   "source": [
    "We get the same trace as we got using the earlier approach. The dictionary passed to the `with_replay` method contains the values each operator needs to return indexed by its label. Now we are ready to create our training/validation data efficiently."
   ]
  },
  {
   "cell_type": "code",
   "execution_count": 7,
   "metadata": {},
   "outputs": [
    {
     "name": "stderr",
     "output_type": "stream",
     "text": [
      "100%|██████████| 100000/100000 [00:09<00:00, 10875.60it/s]\n",
      "100%|██████████| 1000/1000 [00:00<00:00, 10398.90it/s]\n"
     ]
    }
   ],
   "source": [
    "import tqdm\n",
    "training_traces = []\n",
    "validation_traces = []\n",
    "\n",
    "#  First, the training data\n",
    "for name, initials in tqdm.tqdm(zip(train_df.name, train_df.initials), total=train_df.shape[0]):\n",
    "    choice_first, choice_last, _ = initials.split('.')\n",
    "    replay_choices = {'first': [choice_first], 'last': [choice_last]}\n",
    "    _, trace = get_initials.with_env(replay=replay_choices, tracing=True).call(name)\n",
    "    training_traces.append(trace)\n",
    "            \n",
    "#  Now do the validation data\n",
    "for name, initials in tqdm.tqdm(zip(valid_df.name, valid_df.initials), total=valid_df.shape[0]):\n",
    "    choice_first, choice_last, _ = initials.split('.')\n",
    "    replay_choices = {'first': [choice_first], 'last': [choice_last]}\n",
    "    _, trace = get_initials.with_env(replay=replay_choices, tracing=True).call(name)\n",
    "    validation_traces.append(trace)"
   ]
  },
  {
   "cell_type": "markdown",
   "metadata": {},
   "source": [
    "### Defining the Model ###\n",
    "\n",
    "We now define the neural network model that will guide the choices made by each of the select operators. We will use a simple Keras-based RNN model that takes in a string and outputs a single character."
   ]
  },
  {
   "cell_type": "code",
   "execution_count": 8,
   "metadata": {},
   "outputs": [],
   "source": [
    "import tensorflow as tf\n",
    "import string\n",
    "import numpy as np\n",
    "from atlas.models.catalogue import Models\n",
    "\n",
    "class SelectModel(Models.Keras):\n",
    "    def __init__(self):\n",
    "        super().__init__()\n",
    "\n",
    "        characters = string.ascii_letters + '. '\n",
    "        self.char_index = {c: idx for idx, c in enumerate(characters, 3)}\n",
    "        self.char_index['<PAD>'] = 0\n",
    "        self.char_index['<START>'] = 1\n",
    "        self.char_index['<END>'] = 2\n",
    "        self.inverse_char_index = {v: k for k, v in self.char_index.items()}\n",
    "        self.max_length = 50\n",
    "\n",
    "    def preprocess(self, data, mode='training'):\n",
    "        if mode == 'training':\n",
    "            inputs = [['<START>'] + list(i.domain) + ['<END>'] for i in data]\n",
    "            inputs = [list(map(lambda x: self.char_index[x], i)) for i in inputs]\n",
    "            inputs = tf.keras.preprocessing.sequence.pad_sequences(inputs, maxlen=self.max_length, padding='post',\n",
    "                                                                   value=self.char_index['<PAD>'])\n",
    "            labels = [self.char_index[i.choice] for i in data]\n",
    "            return inputs, labels\n",
    "        \n",
    "        else:\n",
    "            inputs = [['<START>'] + list(i) + ['<END>'] for i in data]\n",
    "            inputs = [list(map(lambda x: self.char_index[x], i)) for i in inputs]\n",
    "            inputs = tf.keras.preprocessing.sequence.pad_sequences(inputs, maxlen=self.max_length, padding='post',\n",
    "                                                                   value=self.char_index['<PAD>'])\n",
    "            return inputs\n",
    "\n",
    "    def infer(self, domain, *args, **kwargs):\n",
    "        probabilities = super().infer([domain])[0]\n",
    "        char_predictions = np.argsort(probabilities)\n",
    "\n",
    "        predictions = [self.inverse_char_index[i] for i in reversed(char_predictions)]\n",
    "        return list(filter(lambda x: x in domain, predictions))\n",
    "\n",
    "    def build(self):\n",
    "        self.model = tf.keras.Sequential([\n",
    "            tf.keras.layers.Embedding(len(self.char_index), 64),\n",
    "            tf.keras.layers.Bidirectional(tf.keras.layers.LSTM(64)),\n",
    "            tf.keras.layers.Dense(64, activation='relu'),\n",
    "            tf.keras.layers.Dense(len(self.char_index), activation='softmax')\n",
    "        ])\n",
    "\n",
    "        self.model.compile(optimizer='adam',\n",
    "                           loss='sparse_categorical_crossentropy',\n",
    "                           metrics=['accuracy'])\n",
    "        \n",
    "class GetInitialsModel(Models.Generators.Imitation.IndependentOperators):\n",
    "    @operator\n",
    "    def Select(*args, **kwargs):\n",
    "        return SelectModel()"
   ]
  },
  {
   "cell_type": "code",
   "execution_count": 9,
   "metadata": {},
   "outputs": [
    {
     "name": "stderr",
     "output_type": "stream",
     "text": [
      "100%|██████████| 100000/100000 [00:00<00:00, 1115723.00it/s]\n",
      "100%|██████████| 1000/1000 [00:00<00:00, 956948.21it/s]"
     ]
    },
    {
     "name": "stdout",
     "output_type": "stream",
     "text": [
      "[+] Training model for OpInfo(sid='/get_initials/Select@first@1', gen_name='get_initials', op_type='Select', index=1, gen_group=None, uid='first', tags=None)\n",
      "WARNING:tensorflow:From /usr/local/lib/python3.7/site-packages/tensorflow/python/ops/resource_variable_ops.py:435: colocate_with (from tensorflow.python.framework.ops) is deprecated and will be removed in a future version.\n",
      "Instructions for updating:\n",
      "Colocations handled automatically by placer.\n"
     ]
    },
    {
     "name": "stderr",
     "output_type": "stream",
     "text": [
      "\n"
     ]
    },
    {
     "name": "stdout",
     "output_type": "stream",
     "text": [
      "Train on 100000 samples, validate on 1000 samples\n",
      " 99968/100000 [============================>.] - ETA: 0s - loss: 0.6296 - acc: 0.8408\n",
      "Epoch 00001: val_acc improved from -inf to 1.00000, saving model to /var/folders/s9/__w2d9dx2ljdx9qk865hh5qs559bh9/T/tmp0vzmsklz/model.h5\n",
      "100000/100000 [==============================] - 76s 764us/sample - loss: 0.6294 - acc: 0.8409 - val_loss: 0.0030 - val_acc: 1.0000\n",
      "[+] Training model for OpInfo(sid='/get_initials/Select@last@2', gen_name='get_initials', op_type='Select', index=2, gen_group=None, uid='last', tags=None)\n",
      "Train on 100000 samples, validate on 1000 samples\n",
      " 99968/100000 [============================>.] - ETA: 0s - loss: 1.2902 - acc: 0.5990\n",
      "Epoch 00001: val_acc improved from -inf to 0.98500, saving model to /var/folders/s9/__w2d9dx2ljdx9qk865hh5qs559bh9/T/tmpkq6gvod_/model.h5\n",
      "100000/100000 [==============================] - 75s 749us/sample - loss: 1.2898 - acc: 0.5991 - val_loss: 0.0658 - val_acc: 0.9850\n"
     ]
    }
   ],
   "source": [
    "from atlas.models.utils import save_model, restore_model\n",
    "model = GetInitialsModel()\n",
    "model.train(training_traces, validation_traces, num_epochs=1)"
   ]
  },
  {
   "cell_type": "code",
   "execution_count": 10,
   "metadata": {},
   "outputs": [],
   "source": [
    "save_model(model, './trained_model.zip')"
   ]
  },
  {
   "cell_type": "code",
   "execution_count": 11,
   "metadata": {},
   "outputs": [],
   "source": [
    "model = restore_model(\"./trained_model.zip\") \n",
    "get_initials.set_default_model(model)"
   ]
  },
  {
   "cell_type": "code",
   "execution_count": 12,
   "metadata": {},
   "outputs": [
    {
     "data": {
      "text/plain": [
       "['C.L.', 'C.C.', 'C.n.', 'C.M.', 'C.r.']"
      ]
     },
     "execution_count": 12,
     "metadata": {},
     "output_type": "execute_result"
    }
   ],
   "source": [
    "import itertools\n",
    "list(itertools.islice(get_initials.generate('Miss Caroline Lemieux'), 5))"
   ]
  },
  {
   "cell_type": "markdown",
   "metadata": {},
   "source": [
    "An interesting by-product of our approach of combining known constraints with models is that we can edit the constraints and reuse the models without retraining."
   ]
  },
  {
   "cell_type": "code",
   "execution_count": 13,
   "metadata": {},
   "outputs": [],
   "source": [
    "@generator\n",
    "def get_initials(name: str):\n",
    "    #  Initial corresponding to the first name\n",
    "    first_initial = Select(name)\n",
    "    #  Initial corresponding to the last name\n",
    "    last_initial = Select(name)\n",
    "    #  Combine the two\n",
    "    return f\"Initials - {first_initial}.{last_initial}\"\n",
    "\n",
    "get_initials.set_default_model(model)"
   ]
  },
  {
   "cell_type": "code",
   "execution_count": 14,
   "metadata": {
    "pycharm": {
     "name": "#%%\n"
    }
   },
   "outputs": [
    {
     "data": {
      "text/plain": [
       "['Initials - C.L',\n",
       " 'Initials - C.C',\n",
       " 'Initials - C.n',\n",
       " 'Initials - C.M',\n",
       " 'Initials - C.r']"
      ]
     },
     "execution_count": 14,
     "metadata": {},
     "output_type": "execute_result"
    }
   ],
   "source": [
    "list(itertools.islice(get_initials.generate('Ms. Caroline Lemieux'), 5))\\"
   ]
  },
  {
   "cell_type": "code",
   "execution_count": null,
   "metadata": {},
   "outputs": [],
   "source": []
  }
 ],
 "metadata": {
  "kernelspec": {
   "display_name": "Python 3",
   "language": "python",
   "name": "python3"
  },
  "language_info": {
   "codemirror_mode": {
    "name": "ipython",
    "version": 3
   },
   "file_extension": ".py",
   "mimetype": "text/x-python",
   "name": "python",
   "nbconvert_exporter": "python",
   "pygments_lexer": "ipython3",
   "version": "3.7.1"
  },
  "pycharm": {
   "stem_cell": {
    "cell_type": "raw",
    "metadata": {
     "collapsed": false
    },
    "source": []
   }
  }
 },
 "nbformat": 4,
 "nbformat_minor": 2
}

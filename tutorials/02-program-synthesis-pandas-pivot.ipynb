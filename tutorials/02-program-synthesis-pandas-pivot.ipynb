{
 "cells": [
  {
   "cell_type": "markdown",
   "metadata": {},
   "source": [
    "# Building a Synthesizer for Pivot\n",
    "\n",
    "In this tutorial, we will build a simple but efficient synthesizer for the Pandas [pivot](https://pandas.pydata.org/pandas-docs/version/0.22/generated/pandas.DataFrame.pivot.html) function. More concretely, given an input dataframe and a desired output dataframe, our synthesizer will output the arguments that need to be passed to pivot that can reproduce the desired output."
   ]
  },
  {
   "cell_type": "markdown",
   "metadata": {},
   "source": [
    "## Arguments Generator for Pivot\n",
    "First let us define a generator that will be our synthesis engine for pivot. As mentioned earlier, this generator will enumerate possible argument combinations. Here is one version which simply selects one of the columns for each of the arguments (or the default value of `None`)."
   ]
  },
  {
   "cell_type": "code",
   "execution_count": 1,
   "metadata": {},
   "outputs": [],
   "source": [
    "from atlas import generator\n",
    "\n",
    "@generator\n",
    "def pivot_args_generator(input_df):\n",
    "    arg_columns = Select([None] + list(input_df.columns))\n",
    "    arg_index = Select([None] + list(input_df.columns))\n",
    "    arg_values = Select([None] + list(input_df.columns))\n",
    "    \n",
    "    return {'index': arg_index, 'columns': arg_columns, 'values': arg_values}"
   ]
  },
  {
   "cell_type": "markdown",
   "metadata": {},
   "source": [
    "Now let's try running it on a sample dataframe"
   ]
  },
  {
   "cell_type": "code",
   "execution_count": 2,
   "metadata": {},
   "outputs": [
    {
     "data": {
      "text/html": [
       "<div>\n",
       "<style scoped>\n",
       "    .dataframe tbody tr th:only-of-type {\n",
       "        vertical-align: middle;\n",
       "    }\n",
       "\n",
       "    .dataframe tbody tr th {\n",
       "        vertical-align: top;\n",
       "    }\n",
       "\n",
       "    .dataframe thead th {\n",
       "        text-align: right;\n",
       "    }\n",
       "</style>\n",
       "<table border=\"1\" class=\"dataframe\">\n",
       "  <thead>\n",
       "    <tr style=\"text-align: right;\">\n",
       "      <th></th>\n",
       "      <th>foo</th>\n",
       "      <th>bar</th>\n",
       "      <th>baz</th>\n",
       "    </tr>\n",
       "  </thead>\n",
       "  <tbody>\n",
       "    <tr>\n",
       "      <th>0</th>\n",
       "      <td>one</td>\n",
       "      <td>A</td>\n",
       "      <td>10</td>\n",
       "    </tr>\n",
       "    <tr>\n",
       "      <th>1</th>\n",
       "      <td>one</td>\n",
       "      <td>B</td>\n",
       "      <td>20</td>\n",
       "    </tr>\n",
       "    <tr>\n",
       "      <th>2</th>\n",
       "      <td>one</td>\n",
       "      <td>C</td>\n",
       "      <td>30</td>\n",
       "    </tr>\n",
       "    <tr>\n",
       "      <th>3</th>\n",
       "      <td>two</td>\n",
       "      <td>A</td>\n",
       "      <td>40</td>\n",
       "    </tr>\n",
       "    <tr>\n",
       "      <th>4</th>\n",
       "      <td>two</td>\n",
       "      <td>B</td>\n",
       "      <td>50</td>\n",
       "    </tr>\n",
       "    <tr>\n",
       "      <th>5</th>\n",
       "      <td>two</td>\n",
       "      <td>C</td>\n",
       "      <td>60</td>\n",
       "    </tr>\n",
       "  </tbody>\n",
       "</table>\n",
       "</div>"
      ],
      "text/plain": [
       "   foo bar  baz\n",
       "0  one   A   10\n",
       "1  one   B   20\n",
       "2  one   C   30\n",
       "3  two   A   40\n",
       "4  two   B   50\n",
       "5  two   C   60"
      ]
     },
     "execution_count": 2,
     "metadata": {},
     "output_type": "execute_result"
    }
   ],
   "source": [
    "import pandas as pd\n",
    "df = pd.DataFrame({\n",
    "  'foo': ['one', 'one', 'one', 'two', 'two', 'two'],\n",
    "  'bar': ['A', 'B', 'C', 'A', 'B', 'C'],\n",
    "  'baz': [10, 20, 30, 40, 50, 60],\n",
    "})\n",
    "df"
   ]
  },
  {
   "cell_type": "code",
   "execution_count": 3,
   "metadata": {},
   "outputs": [
    {
     "name": "stdout",
     "output_type": "stream",
     "text": [
      "{'index': None, 'columns': None, 'values': None}\n",
      "{'index': None, 'columns': None, 'values': 'foo'}\n",
      "{'index': None, 'columns': None, 'values': 'bar'}\n",
      "{'index': None, 'columns': None, 'values': 'baz'}\n",
      "{'index': 'foo', 'columns': None, 'values': None}\n",
      "{'index': 'foo', 'columns': None, 'values': 'foo'}\n",
      "{'index': 'foo', 'columns': None, 'values': 'bar'}\n",
      "{'index': 'foo', 'columns': None, 'values': 'baz'}\n",
      "{'index': 'bar', 'columns': None, 'values': None}\n",
      "{'index': 'bar', 'columns': None, 'values': 'foo'}\n",
      "{'index': 'bar', 'columns': None, 'values': 'bar'}\n",
      "{'index': 'bar', 'columns': None, 'values': 'baz'}\n",
      "{'index': 'baz', 'columns': None, 'values': None}\n",
      "{'index': 'baz', 'columns': None, 'values': 'foo'}\n",
      "{'index': 'baz', 'columns': None, 'values': 'bar'}\n",
      "{'index': 'baz', 'columns': None, 'values': 'baz'}\n",
      "{'index': None, 'columns': 'foo', 'values': None}\n",
      "{'index': None, 'columns': 'foo', 'values': 'foo'}\n",
      "{'index': None, 'columns': 'foo', 'values': 'bar'}\n",
      "{'index': None, 'columns': 'foo', 'values': 'baz'}\n",
      "{'index': 'foo', 'columns': 'foo', 'values': None}\n",
      "{'index': 'foo', 'columns': 'foo', 'values': 'foo'}\n",
      "{'index': 'foo', 'columns': 'foo', 'values': 'bar'}\n",
      "{'index': 'foo', 'columns': 'foo', 'values': 'baz'}\n",
      "{'index': 'bar', 'columns': 'foo', 'values': None}\n",
      "{'index': 'bar', 'columns': 'foo', 'values': 'foo'}\n",
      "{'index': 'bar', 'columns': 'foo', 'values': 'bar'}\n",
      "{'index': 'bar', 'columns': 'foo', 'values': 'baz'}\n",
      "{'index': 'baz', 'columns': 'foo', 'values': None}\n",
      "{'index': 'baz', 'columns': 'foo', 'values': 'foo'}\n",
      "{'index': 'baz', 'columns': 'foo', 'values': 'bar'}\n",
      "{'index': 'baz', 'columns': 'foo', 'values': 'baz'}\n",
      "{'index': None, 'columns': 'bar', 'values': None}\n",
      "{'index': None, 'columns': 'bar', 'values': 'foo'}\n",
      "{'index': None, 'columns': 'bar', 'values': 'bar'}\n",
      "{'index': None, 'columns': 'bar', 'values': 'baz'}\n",
      "{'index': 'foo', 'columns': 'bar', 'values': None}\n",
      "{'index': 'foo', 'columns': 'bar', 'values': 'foo'}\n",
      "{'index': 'foo', 'columns': 'bar', 'values': 'bar'}\n",
      "{'index': 'foo', 'columns': 'bar', 'values': 'baz'}\n",
      "{'index': 'bar', 'columns': 'bar', 'values': None}\n",
      "{'index': 'bar', 'columns': 'bar', 'values': 'foo'}\n",
      "{'index': 'bar', 'columns': 'bar', 'values': 'bar'}\n",
      "{'index': 'bar', 'columns': 'bar', 'values': 'baz'}\n",
      "{'index': 'baz', 'columns': 'bar', 'values': None}\n",
      "{'index': 'baz', 'columns': 'bar', 'values': 'foo'}\n",
      "{'index': 'baz', 'columns': 'bar', 'values': 'bar'}\n",
      "{'index': 'baz', 'columns': 'bar', 'values': 'baz'}\n",
      "{'index': None, 'columns': 'baz', 'values': None}\n",
      "{'index': None, 'columns': 'baz', 'values': 'foo'}\n",
      "{'index': None, 'columns': 'baz', 'values': 'bar'}\n",
      "{'index': None, 'columns': 'baz', 'values': 'baz'}\n",
      "{'index': 'foo', 'columns': 'baz', 'values': None}\n",
      "{'index': 'foo', 'columns': 'baz', 'values': 'foo'}\n",
      "{'index': 'foo', 'columns': 'baz', 'values': 'bar'}\n",
      "{'index': 'foo', 'columns': 'baz', 'values': 'baz'}\n",
      "{'index': 'bar', 'columns': 'baz', 'values': None}\n",
      "{'index': 'bar', 'columns': 'baz', 'values': 'foo'}\n",
      "{'index': 'bar', 'columns': 'baz', 'values': 'bar'}\n",
      "{'index': 'bar', 'columns': 'baz', 'values': 'baz'}\n",
      "{'index': 'baz', 'columns': 'baz', 'values': None}\n",
      "{'index': 'baz', 'columns': 'baz', 'values': 'foo'}\n",
      "{'index': 'baz', 'columns': 'baz', 'values': 'bar'}\n",
      "{'index': 'baz', 'columns': 'baz', 'values': 'baz'}\n"
     ]
    }
   ],
   "source": [
    "for args in pivot_args_generator.generate(df):\n",
    "    print(args)"
   ]
  },
  {
   "cell_type": "markdown",
   "metadata": {},
   "source": [
    "However, not all the argument combinations printed above are valid. Not convinced? Let's try executing them."
   ]
  },
  {
   "cell_type": "code",
   "execution_count": 4,
   "metadata": {},
   "outputs": [
    {
     "ename": "ValueError",
     "evalue": "cannot label index with a null key",
     "output_type": "error",
     "traceback": [
      "\u001b[0;31m---------------------------------------------------------------------------\u001b[0m",
      "\u001b[0;31mValueError\u001b[0m                                Traceback (most recent call last)",
      "\u001b[0;32m<ipython-input-4-bf6bc726e3d4>\u001b[0m in \u001b[0;36m<module>\u001b[0;34m()\u001b[0m\n\u001b[1;32m      1\u001b[0m \u001b[0;32mfor\u001b[0m \u001b[0margs\u001b[0m \u001b[0;32min\u001b[0m \u001b[0mpivot_args_generator\u001b[0m\u001b[0;34m.\u001b[0m\u001b[0mgenerate\u001b[0m\u001b[0;34m(\u001b[0m\u001b[0mdf\u001b[0m\u001b[0;34m)\u001b[0m\u001b[0;34m:\u001b[0m\u001b[0;34m\u001b[0m\u001b[0;34m\u001b[0m\u001b[0m\n\u001b[0;32m----> 2\u001b[0;31m     \u001b[0mprint\u001b[0m\u001b[0;34m(\u001b[0m\u001b[0margs\u001b[0m\u001b[0;34m,\u001b[0m \u001b[0mdf\u001b[0m\u001b[0;34m.\u001b[0m\u001b[0mpivot\u001b[0m\u001b[0;34m(\u001b[0m\u001b[0;34m**\u001b[0m\u001b[0margs\u001b[0m\u001b[0;34m)\u001b[0m\u001b[0;34m)\u001b[0m\u001b[0;34m\u001b[0m\u001b[0;34m\u001b[0m\u001b[0m\n\u001b[0m",
      "\u001b[0;32m/usr/local/lib/python3.7/site-packages/pandas/core/frame.py\u001b[0m in \u001b[0;36mpivot\u001b[0;34m(self, index, columns, values)\u001b[0m\n\u001b[1;32m   5192\u001b[0m         \"\"\"\n\u001b[1;32m   5193\u001b[0m         \u001b[0;32mfrom\u001b[0m \u001b[0mpandas\u001b[0m\u001b[0;34m.\u001b[0m\u001b[0mcore\u001b[0m\u001b[0;34m.\u001b[0m\u001b[0mreshape\u001b[0m\u001b[0;34m.\u001b[0m\u001b[0mreshape\u001b[0m \u001b[0;32mimport\u001b[0m \u001b[0mpivot\u001b[0m\u001b[0;34m\u001b[0m\u001b[0;34m\u001b[0m\u001b[0m\n\u001b[0;32m-> 5194\u001b[0;31m         \u001b[0;32mreturn\u001b[0m \u001b[0mpivot\u001b[0m\u001b[0;34m(\u001b[0m\u001b[0mself\u001b[0m\u001b[0;34m,\u001b[0m \u001b[0mindex\u001b[0m\u001b[0;34m=\u001b[0m\u001b[0mindex\u001b[0m\u001b[0;34m,\u001b[0m \u001b[0mcolumns\u001b[0m\u001b[0;34m=\u001b[0m\u001b[0mcolumns\u001b[0m\u001b[0;34m,\u001b[0m \u001b[0mvalues\u001b[0m\u001b[0;34m=\u001b[0m\u001b[0mvalues\u001b[0m\u001b[0;34m)\u001b[0m\u001b[0;34m\u001b[0m\u001b[0;34m\u001b[0m\u001b[0m\n\u001b[0m\u001b[1;32m   5195\u001b[0m \u001b[0;34m\u001b[0m\u001b[0m\n\u001b[1;32m   5196\u001b[0m     _shared_docs['pivot_table'] = \"\"\"\n",
      "\u001b[0;32m/usr/local/lib/python3.7/site-packages/pandas/core/reshape/reshape.py\u001b[0m in \u001b[0;36mpivot\u001b[0;34m(self, index, columns, values)\u001b[0m\n\u001b[1;32m    398\u001b[0m         \u001b[0mcols\u001b[0m \u001b[0;34m=\u001b[0m \u001b[0;34m[\u001b[0m\u001b[0mcolumns\u001b[0m\u001b[0;34m]\u001b[0m \u001b[0;32mif\u001b[0m \u001b[0mindex\u001b[0m \u001b[0;32mis\u001b[0m \u001b[0;32mNone\u001b[0m \u001b[0;32melse\u001b[0m \u001b[0;34m[\u001b[0m\u001b[0mindex\u001b[0m\u001b[0;34m,\u001b[0m \u001b[0mcolumns\u001b[0m\u001b[0;34m]\u001b[0m\u001b[0;34m\u001b[0m\u001b[0;34m\u001b[0m\u001b[0m\n\u001b[1;32m    399\u001b[0m         \u001b[0mappend\u001b[0m \u001b[0;34m=\u001b[0m \u001b[0mindex\u001b[0m \u001b[0;32mis\u001b[0m \u001b[0;32mNone\u001b[0m\u001b[0;34m\u001b[0m\u001b[0;34m\u001b[0m\u001b[0m\n\u001b[0;32m--> 400\u001b[0;31m         \u001b[0mindexed\u001b[0m \u001b[0;34m=\u001b[0m \u001b[0mself\u001b[0m\u001b[0;34m.\u001b[0m\u001b[0mset_index\u001b[0m\u001b[0;34m(\u001b[0m\u001b[0mcols\u001b[0m\u001b[0;34m,\u001b[0m \u001b[0mappend\u001b[0m\u001b[0;34m=\u001b[0m\u001b[0mappend\u001b[0m\u001b[0;34m)\u001b[0m\u001b[0;34m\u001b[0m\u001b[0;34m\u001b[0m\u001b[0m\n\u001b[0m\u001b[1;32m    401\u001b[0m     \u001b[0;32melse\u001b[0m\u001b[0;34m:\u001b[0m\u001b[0;34m\u001b[0m\u001b[0;34m\u001b[0m\u001b[0m\n\u001b[1;32m    402\u001b[0m         \u001b[0;32mif\u001b[0m \u001b[0mindex\u001b[0m \u001b[0;32mis\u001b[0m \u001b[0;32mNone\u001b[0m\u001b[0;34m:\u001b[0m\u001b[0;34m\u001b[0m\u001b[0;34m\u001b[0m\u001b[0m\n",
      "\u001b[0;32m/usr/local/lib/python3.7/site-packages/pandas/core/frame.py\u001b[0m in \u001b[0;36mset_index\u001b[0;34m(self, keys, drop, append, inplace, verify_integrity)\u001b[0m\n\u001b[1;32m   3907\u001b[0m                 \u001b[0mnames\u001b[0m\u001b[0;34m.\u001b[0m\u001b[0mappend\u001b[0m\u001b[0;34m(\u001b[0m\u001b[0;32mNone\u001b[0m\u001b[0;34m)\u001b[0m\u001b[0;34m\u001b[0m\u001b[0;34m\u001b[0m\u001b[0m\n\u001b[1;32m   3908\u001b[0m             \u001b[0;32melse\u001b[0m\u001b[0;34m:\u001b[0m\u001b[0;34m\u001b[0m\u001b[0;34m\u001b[0m\u001b[0m\n\u001b[0;32m-> 3909\u001b[0;31m                 \u001b[0mlevel\u001b[0m \u001b[0;34m=\u001b[0m \u001b[0mframe\u001b[0m\u001b[0;34m[\u001b[0m\u001b[0mcol\u001b[0m\u001b[0;34m]\u001b[0m\u001b[0;34m.\u001b[0m\u001b[0m_values\u001b[0m\u001b[0;34m\u001b[0m\u001b[0;34m\u001b[0m\u001b[0m\n\u001b[0m\u001b[1;32m   3910\u001b[0m                 \u001b[0mnames\u001b[0m\u001b[0;34m.\u001b[0m\u001b[0mappend\u001b[0m\u001b[0;34m(\u001b[0m\u001b[0mcol\u001b[0m\u001b[0;34m)\u001b[0m\u001b[0;34m\u001b[0m\u001b[0;34m\u001b[0m\u001b[0m\n\u001b[1;32m   3911\u001b[0m                 \u001b[0;32mif\u001b[0m \u001b[0mdrop\u001b[0m\u001b[0;34m:\u001b[0m\u001b[0;34m\u001b[0m\u001b[0;34m\u001b[0m\u001b[0m\n",
      "\u001b[0;32m/usr/local/lib/python3.7/site-packages/pandas/core/frame.py\u001b[0m in \u001b[0;36m__getitem__\u001b[0;34m(self, key)\u001b[0m\n\u001b[1;32m   2686\u001b[0m             \u001b[0;32mreturn\u001b[0m \u001b[0mself\u001b[0m\u001b[0;34m.\u001b[0m\u001b[0m_getitem_multilevel\u001b[0m\u001b[0;34m(\u001b[0m\u001b[0mkey\u001b[0m\u001b[0;34m)\u001b[0m\u001b[0;34m\u001b[0m\u001b[0;34m\u001b[0m\u001b[0m\n\u001b[1;32m   2687\u001b[0m         \u001b[0;32melse\u001b[0m\u001b[0;34m:\u001b[0m\u001b[0;34m\u001b[0m\u001b[0;34m\u001b[0m\u001b[0m\n\u001b[0;32m-> 2688\u001b[0;31m             \u001b[0;32mreturn\u001b[0m \u001b[0mself\u001b[0m\u001b[0;34m.\u001b[0m\u001b[0m_getitem_column\u001b[0m\u001b[0;34m(\u001b[0m\u001b[0mkey\u001b[0m\u001b[0;34m)\u001b[0m\u001b[0;34m\u001b[0m\u001b[0;34m\u001b[0m\u001b[0m\n\u001b[0m\u001b[1;32m   2689\u001b[0m \u001b[0;34m\u001b[0m\u001b[0m\n\u001b[1;32m   2690\u001b[0m     \u001b[0;32mdef\u001b[0m \u001b[0m_getitem_column\u001b[0m\u001b[0;34m(\u001b[0m\u001b[0mself\u001b[0m\u001b[0;34m,\u001b[0m \u001b[0mkey\u001b[0m\u001b[0;34m)\u001b[0m\u001b[0;34m:\u001b[0m\u001b[0;34m\u001b[0m\u001b[0;34m\u001b[0m\u001b[0m\n",
      "\u001b[0;32m/usr/local/lib/python3.7/site-packages/pandas/core/frame.py\u001b[0m in \u001b[0;36m_getitem_column\u001b[0;34m(self, key)\u001b[0m\n\u001b[1;32m   2693\u001b[0m         \u001b[0;31m# get column\u001b[0m\u001b[0;34m\u001b[0m\u001b[0;34m\u001b[0m\u001b[0;34m\u001b[0m\u001b[0m\n\u001b[1;32m   2694\u001b[0m         \u001b[0;32mif\u001b[0m \u001b[0mself\u001b[0m\u001b[0;34m.\u001b[0m\u001b[0mcolumns\u001b[0m\u001b[0;34m.\u001b[0m\u001b[0mis_unique\u001b[0m\u001b[0;34m:\u001b[0m\u001b[0;34m\u001b[0m\u001b[0;34m\u001b[0m\u001b[0m\n\u001b[0;32m-> 2695\u001b[0;31m             \u001b[0;32mreturn\u001b[0m \u001b[0mself\u001b[0m\u001b[0;34m.\u001b[0m\u001b[0m_get_item_cache\u001b[0m\u001b[0;34m(\u001b[0m\u001b[0mkey\u001b[0m\u001b[0;34m)\u001b[0m\u001b[0;34m\u001b[0m\u001b[0;34m\u001b[0m\u001b[0m\n\u001b[0m\u001b[1;32m   2696\u001b[0m \u001b[0;34m\u001b[0m\u001b[0m\n\u001b[1;32m   2697\u001b[0m         \u001b[0;31m# duplicate columns & possible reduce dimensionality\u001b[0m\u001b[0;34m\u001b[0m\u001b[0;34m\u001b[0m\u001b[0;34m\u001b[0m\u001b[0m\n",
      "\u001b[0;32m/usr/local/lib/python3.7/site-packages/pandas/core/generic.py\u001b[0m in \u001b[0;36m_get_item_cache\u001b[0;34m(self, item)\u001b[0m\n\u001b[1;32m   2487\u001b[0m         \u001b[0mres\u001b[0m \u001b[0;34m=\u001b[0m \u001b[0mcache\u001b[0m\u001b[0;34m.\u001b[0m\u001b[0mget\u001b[0m\u001b[0;34m(\u001b[0m\u001b[0mitem\u001b[0m\u001b[0;34m)\u001b[0m\u001b[0;34m\u001b[0m\u001b[0;34m\u001b[0m\u001b[0m\n\u001b[1;32m   2488\u001b[0m         \u001b[0;32mif\u001b[0m \u001b[0mres\u001b[0m \u001b[0;32mis\u001b[0m \u001b[0;32mNone\u001b[0m\u001b[0;34m:\u001b[0m\u001b[0;34m\u001b[0m\u001b[0;34m\u001b[0m\u001b[0m\n\u001b[0;32m-> 2489\u001b[0;31m             \u001b[0mvalues\u001b[0m \u001b[0;34m=\u001b[0m \u001b[0mself\u001b[0m\u001b[0;34m.\u001b[0m\u001b[0m_data\u001b[0m\u001b[0;34m.\u001b[0m\u001b[0mget\u001b[0m\u001b[0;34m(\u001b[0m\u001b[0mitem\u001b[0m\u001b[0;34m)\u001b[0m\u001b[0;34m\u001b[0m\u001b[0;34m\u001b[0m\u001b[0m\n\u001b[0m\u001b[1;32m   2490\u001b[0m             \u001b[0mres\u001b[0m \u001b[0;34m=\u001b[0m \u001b[0mself\u001b[0m\u001b[0;34m.\u001b[0m\u001b[0m_box_item_values\u001b[0m\u001b[0;34m(\u001b[0m\u001b[0mitem\u001b[0m\u001b[0;34m,\u001b[0m \u001b[0mvalues\u001b[0m\u001b[0;34m)\u001b[0m\u001b[0;34m\u001b[0m\u001b[0;34m\u001b[0m\u001b[0m\n\u001b[1;32m   2491\u001b[0m             \u001b[0mcache\u001b[0m\u001b[0;34m[\u001b[0m\u001b[0mitem\u001b[0m\u001b[0;34m]\u001b[0m \u001b[0;34m=\u001b[0m \u001b[0mres\u001b[0m\u001b[0;34m\u001b[0m\u001b[0;34m\u001b[0m\u001b[0m\n",
      "\u001b[0;32m/usr/local/lib/python3.7/site-packages/pandas/core/internals.py\u001b[0m in \u001b[0;36mget\u001b[0;34m(self, item, fastpath)\u001b[0m\n\u001b[1;32m   4122\u001b[0m                         \u001b[0mloc\u001b[0m \u001b[0;34m=\u001b[0m \u001b[0mindexer\u001b[0m\u001b[0;34m.\u001b[0m\u001b[0mitem\u001b[0m\u001b[0;34m(\u001b[0m\u001b[0;34m)\u001b[0m\u001b[0;34m\u001b[0m\u001b[0;34m\u001b[0m\u001b[0m\n\u001b[1;32m   4123\u001b[0m                     \u001b[0;32melse\u001b[0m\u001b[0;34m:\u001b[0m\u001b[0;34m\u001b[0m\u001b[0;34m\u001b[0m\u001b[0m\n\u001b[0;32m-> 4124\u001b[0;31m                         \u001b[0;32mraise\u001b[0m \u001b[0mValueError\u001b[0m\u001b[0;34m(\u001b[0m\u001b[0;34m\"cannot label index with a null key\"\u001b[0m\u001b[0;34m)\u001b[0m\u001b[0;34m\u001b[0m\u001b[0;34m\u001b[0m\u001b[0m\n\u001b[0m\u001b[1;32m   4125\u001b[0m \u001b[0;34m\u001b[0m\u001b[0m\n\u001b[1;32m   4126\u001b[0m             \u001b[0;32mreturn\u001b[0m \u001b[0mself\u001b[0m\u001b[0;34m.\u001b[0m\u001b[0miget\u001b[0m\u001b[0;34m(\u001b[0m\u001b[0mloc\u001b[0m\u001b[0;34m,\u001b[0m \u001b[0mfastpath\u001b[0m\u001b[0;34m=\u001b[0m\u001b[0mfastpath\u001b[0m\u001b[0;34m)\u001b[0m\u001b[0;34m\u001b[0m\u001b[0;34m\u001b[0m\u001b[0m\n",
      "\u001b[0;31mValueError\u001b[0m: cannot label index with a null key"
     ]
    }
   ],
   "source": [
    "for args in pivot_args_generator.generate(df):\n",
    "    print(args, df.pivot(**args))"
   ]
  },
  {
   "cell_type": "markdown",
   "metadata": {},
   "source": [
    "Pandas threw an error as our generator is not *precise* while enumerating arguments. That is, it generates argument combinations which cause the pandas pivot function to throw an error. There are a number of hard-to-see constraints embedded in the [documentation](https://pandas.pydata.org/pandas-docs/version/0.22/generated/pandas.DataFrame.pivot.html) for pivot. For example, the columns argument is not marked *Optional* even though it is a keyword argument. We have already done the job of incorporating all these constraints in the generator below."
   ]
  },
  {
   "cell_type": "code",
   "execution_count": 5,
   "metadata": {},
   "outputs": [],
   "source": [
    "@generator\n",
    "def pivot_args_generator(input_df): \n",
    "    def dup_filter(cand):\n",
    "        try:\n",
    "            return not any(input_df[[cand, arg_columns]].duplicated())\n",
    "        except:\n",
    "            return True\n",
    "\n",
    "    arg_columns = Select(input_df.columns)\n",
    "    arg_index = Select([None] + list(filter(dup_filter, set(input_df.columns) - {arg_columns})))\n",
    "\n",
    "    if input_df.index.nlevels > 1 and arg_index is None:\n",
    "        arg_values = None\n",
    "    else:\n",
    "        arg_values = Select(set(input_df.columns) | {None})\n",
    "\n",
    "    return {'columns': arg_columns, 'index': arg_index, 'values': arg_values}"
   ]
  },
  {
   "cell_type": "code",
   "execution_count": 6,
   "metadata": {},
   "outputs": [
    {
     "name": "stdout",
     "output_type": "stream",
     "text": [
      "{'columns': 'foo', 'index': None, 'values': 'baz'}\n",
      "{'columns': 'foo', 'index': None, 'values': 'bar'}\n",
      "{'columns': 'foo', 'index': None, 'values': 'foo'}\n",
      "{'columns': 'foo', 'index': None, 'values': None}\n",
      "{'columns': 'foo', 'index': 'baz', 'values': 'baz'}\n",
      "{'columns': 'foo', 'index': 'baz', 'values': 'bar'}\n",
      "{'columns': 'foo', 'index': 'baz', 'values': 'foo'}\n",
      "{'columns': 'foo', 'index': 'baz', 'values': None}\n",
      "{'columns': 'foo', 'index': 'bar', 'values': 'baz'}\n",
      "{'columns': 'foo', 'index': 'bar', 'values': 'bar'}\n",
      "{'columns': 'foo', 'index': 'bar', 'values': 'foo'}\n",
      "{'columns': 'foo', 'index': 'bar', 'values': None}\n",
      "{'columns': 'bar', 'index': None, 'values': 'baz'}\n",
      "{'columns': 'bar', 'index': None, 'values': 'bar'}\n",
      "{'columns': 'bar', 'index': None, 'values': 'foo'}\n",
      "{'columns': 'bar', 'index': None, 'values': None}\n",
      "{'columns': 'bar', 'index': 'baz', 'values': 'baz'}\n",
      "{'columns': 'bar', 'index': 'baz', 'values': 'bar'}\n",
      "{'columns': 'bar', 'index': 'baz', 'values': 'foo'}\n",
      "{'columns': 'bar', 'index': 'baz', 'values': None}\n",
      "{'columns': 'bar', 'index': 'foo', 'values': 'baz'}\n",
      "{'columns': 'bar', 'index': 'foo', 'values': 'bar'}\n",
      "{'columns': 'bar', 'index': 'foo', 'values': 'foo'}\n",
      "{'columns': 'bar', 'index': 'foo', 'values': None}\n",
      "{'columns': 'baz', 'index': None, 'values': 'baz'}\n",
      "{'columns': 'baz', 'index': None, 'values': 'bar'}\n",
      "{'columns': 'baz', 'index': None, 'values': 'foo'}\n",
      "{'columns': 'baz', 'index': None, 'values': None}\n",
      "{'columns': 'baz', 'index': 'bar', 'values': 'baz'}\n",
      "{'columns': 'baz', 'index': 'bar', 'values': 'bar'}\n",
      "{'columns': 'baz', 'index': 'bar', 'values': 'foo'}\n",
      "{'columns': 'baz', 'index': 'bar', 'values': None}\n",
      "{'columns': 'baz', 'index': 'foo', 'values': 'baz'}\n",
      "{'columns': 'baz', 'index': 'foo', 'values': 'bar'}\n",
      "{'columns': 'baz', 'index': 'foo', 'values': 'foo'}\n",
      "{'columns': 'baz', 'index': 'foo', 'values': None}\n"
     ]
    }
   ],
   "source": [
    "for args in pivot_args_generator.generate(df):\n",
    "    print(args)"
   ]
  },
  {
   "cell_type": "markdown",
   "metadata": {},
   "source": [
    "## Building a Brute-Force Synthesizer\n",
    "Given `pivot_args_generator` we are now ready to build our first brute-force synthesizer for pivot. Given an input-output pair, we will simply enumerate and execute all argument combinations till we find the right one."
   ]
  },
  {
   "cell_type": "code",
   "execution_count": 7,
   "metadata": {},
   "outputs": [],
   "source": [
    "from atlas.synthesis.pandas.checker import Checker\n",
    "def synthesize(input_df, output_df):\n",
    "    for args in pivot_args_generator.generate(input_df):\n",
    "        result = input_df.pivot(**args)\n",
    "        if Checker.check(result, output_df):\n",
    "            print(\"Solution Found:\", args)\n",
    "            break"
   ]
  },
  {
   "cell_type": "markdown",
   "metadata": {},
   "source": [
    "Try it out!"
   ]
  },
  {
   "cell_type": "code",
   "execution_count": 8,
   "metadata": {},
   "outputs": [
    {
     "data": {
      "text/html": [
       "<div>\n",
       "<style scoped>\n",
       "    .dataframe tbody tr th:only-of-type {\n",
       "        vertical-align: middle;\n",
       "    }\n",
       "\n",
       "    .dataframe tbody tr th {\n",
       "        vertical-align: top;\n",
       "    }\n",
       "\n",
       "    .dataframe thead th {\n",
       "        text-align: right;\n",
       "    }\n",
       "</style>\n",
       "<table border=\"1\" class=\"dataframe\">\n",
       "  <thead>\n",
       "    <tr style=\"text-align: right;\">\n",
       "      <th></th>\n",
       "      <th>one</th>\n",
       "      <th>two</th>\n",
       "    </tr>\n",
       "  </thead>\n",
       "  <tbody>\n",
       "    <tr>\n",
       "      <th>A</th>\n",
       "      <td>10</td>\n",
       "      <td>40</td>\n",
       "    </tr>\n",
       "    <tr>\n",
       "      <th>B</th>\n",
       "      <td>20</td>\n",
       "      <td>50</td>\n",
       "    </tr>\n",
       "    <tr>\n",
       "      <th>C</th>\n",
       "      <td>30</td>\n",
       "      <td>60</td>\n",
       "    </tr>\n",
       "  </tbody>\n",
       "</table>\n",
       "</div>"
      ],
      "text/plain": [
       "   one  two\n",
       "A   10   40\n",
       "B   20   50\n",
       "C   30   60"
      ]
     },
     "execution_count": 8,
     "metadata": {},
     "output_type": "execute_result"
    }
   ],
   "source": [
    "desired_output = pd.DataFrame({'one': {'A': 10, 'B': 20, 'C': 30}, 'two': {'A': 40, 'B': 50, 'C': 60}})\n",
    "desired_output"
   ]
  },
  {
   "cell_type": "code",
   "execution_count": 9,
   "metadata": {},
   "outputs": [
    {
     "name": "stdout",
     "output_type": "stream",
     "text": [
      "Solution Found: {'columns': 'foo', 'index': 'bar', 'values': 'baz'}\n"
     ]
    }
   ],
   "source": [
    "synthesize(df, desired_output)"
   ]
  },
  {
   "cell_type": "code",
   "execution_count": null,
   "metadata": {},
   "outputs": [],
   "source": []
  }
 ],
 "metadata": {
  "kernelspec": {
   "display_name": "Python 3",
   "language": "python",
   "name": "python3"
  },
  "language_info": {
   "codemirror_mode": {
    "name": "ipython",
    "version": 3
   },
   "file_extension": ".py",
   "mimetype": "text/x-python",
   "name": "python",
   "nbconvert_exporter": "python",
   "pygments_lexer": "ipython3",
   "version": "3.7.1"
  }
 },
 "nbformat": 4,
 "nbformat_minor": 2
}

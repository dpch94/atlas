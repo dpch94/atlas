{
 "cells": [
  {
   "cell_type": "markdown",
   "metadata": {},
   "source": [
    "# The Atlas API\n",
    "\n",
    "In this tutorial we'll learn the basic functionalities of `Atlas` that can be used to define, manipulate and run `generators`\n",
    "\n",
    "--------------------------\n",
    "## Chapter 1 : Bare Basics\n",
    "\n",
    "### 1.1 Defining a Generator\n",
    "\n",
    "Let us define a generator for building binary strings (containing 0s and 1s) of a certain length. We write a simple function that uses a loop to `Select` either `\"0\"` or `\"1\"` for each bit separately."
   ]
  },
  {
   "cell_type": "code",
   "execution_count": 1,
   "metadata": {},
   "outputs": [],
   "source": [
    "from atlas import generator\n",
    "\n",
    "@generator\n",
    "def binary(length: int):\n",
    "    s = \"\"\n",
    "    for _ in range(length):\n",
    "        s += Select([\"0\", \"1\"])\n",
    "        \n",
    "    return s"
   ]
  },
  {
   "cell_type": "markdown",
   "metadata": {},
   "source": [
    "### 1.2 Enumerating a Generator\n",
    "\n",
    "Let us use this generator to enumerate all binary strings of length `2`"
   ]
  },
  {
   "cell_type": "code",
   "execution_count": 2,
   "metadata": {},
   "outputs": [
    {
     "name": "stdout",
     "output_type": "stream",
     "text": [
      "00\n",
      "01\n",
      "10\n",
      "11\n"
     ]
    }
   ],
   "source": [
    "for s in binary.generate(2):\n",
    "    print(s)"
   ]
  },
  {
   "cell_type": "markdown",
   "metadata": {},
   "source": [
    "-------------------------\n",
    "## Chapter 2 : Introduction to Strategies and Operators\n",
    "\n",
    "The core building block behind generators is a `Strategy`. A strategy essentially defines the behavior of the generator. The `binary` generator we defined above used a `depth-first enumeration` strategy that explored all possible executions of the generator.\n",
    "\n",
    "A strategy itself is simply a collection of behaviors for the `operators` used inside the generator. In the `binary` example above, the depth-first strategy defines the semantics of the `Select` operator that allows it to systematically explore both the choices (`\"0\"` and `\"1\"`).\n",
    "\n",
    "Atlas provides an API that allows you to change the strategy used by the generator, as well as define your own strategies. Let us try changing the behavior of the `binary` generator to randomly return binary strings of the given length.\n",
    "\n",
    "### 2.1 Changing the Strategy used by a Generator\n",
    "\n",
    "#### Method 1 : Redefining the Generator"
   ]
  },
  {
   "cell_type": "code",
   "execution_count": 3,
   "metadata": {},
   "outputs": [
    {
     "name": "stdout",
     "output_type": "stream",
     "text": [
      "01\n"
     ]
    }
   ],
   "source": [
    "@generator(strategy='randomized')\n",
    "def binary(length: int):\n",
    "    s = \"\"\n",
    "    for _ in range(length):\n",
    "        s += Select([\"0\", \"1\"])\n",
    "        \n",
    "    return s\n",
    "\n",
    "for s in binary.generate(2):\n",
    "    print(s)\n",
    "    break"
   ]
  },
  {
   "cell_type": "markdown",
   "metadata": {},
   "source": [
    "Notice that we are breaking the loop after one iteration. This is because when using randomized strategies, a generator is an infinite iterator. To avoid using loop constructs when using such randomized generators, `Atlas` also provides a convenience method `call` that simply returns a value based on a random execution of the generator."
   ]
  },
  {
   "cell_type": "code",
   "execution_count": 4,
   "metadata": {},
   "outputs": [
    {
     "name": "stdout",
     "output_type": "stream",
     "text": [
      "01\n",
      "11\n",
      "01\n",
      "00\n"
     ]
    }
   ],
   "source": [
    "print(binary.call(2))\n",
    "print(binary.call(2))\n",
    "print(binary.call(2))\n",
    "print(binary.call(2))"
   ]
  },
  {
   "cell_type": "markdown",
   "metadata": {},
   "source": [
    "#### Method 2 : Using `set_default_strategy`\n",
    "\n",
    "Redefining the generator is obviously not the way to go when dealing with large generators. `Atlas` provides the `set_default_strategy` method that can be used to set the strategy for a generator without redefining it."
   ]
  },
  {
   "cell_type": "code",
   "execution_count": 5,
   "metadata": {},
   "outputs": [
    {
     "name": "stdout",
     "output_type": "stream",
     "text": [
      "------------\n",
      "DFS Strategy\n",
      "------------\n",
      "00\n",
      "01\n",
      "10\n",
      "11\n",
      "-------------------\n",
      "Randomized Strategy\n",
      "-------------------\n",
      "10\n",
      "00\n",
      "11\n",
      "00\n"
     ]
    }
   ],
   "source": [
    "print(\"------------\")\n",
    "print(\"DFS Strategy\")\n",
    "print(\"------------\")\n",
    "\n",
    "binary.set_default_strategy('dfs')\n",
    "for s in binary.generate(2):\n",
    "    print(s)\n",
    "   \n",
    "print(\"-------------------\")\n",
    "print(\"Randomized Strategy\")\n",
    "print(\"-------------------\")\n",
    "\n",
    "binary.set_default_strategy('randomized')\n",
    "\n",
    "print(binary.call(2))\n",
    "print(binary.call(2))\n",
    "print(binary.call(2))\n",
    "print(binary.call(2))"
   ]
  },
  {
   "cell_type": "markdown",
   "metadata": {},
   "source": [
    "#### Method 3 : Using `with_env`\n",
    "\n",
    "Strategies can also be set *temporarily* without changing the default strategy by calling the `with_env` method along with the `strategy` argument, after calling `generate` as in section `1.2`."
   ]
  },
  {
   "cell_type": "code",
   "execution_count": 6,
   "metadata": {},
   "outputs": [
    {
     "name": "stdout",
     "output_type": "stream",
     "text": [
      "Randomized - 10\n",
      "DFS - 00\n",
      "DFS - 01\n",
      "DFS - 10\n",
      "DFS - 11\n",
      "Randomized - 11\n"
     ]
    }
   ],
   "source": [
    "binary.set_default_strategy('randomized')\n",
    "print(f\"Randomized - {binary.call(2)}\")\n",
    "\n",
    "for s in binary.with_env(strategy='dfs').generate(2):\n",
    "    print(f\"DFS - {s}\")\n",
    "    \n",
    "print(f\"Randomized - {binary.call(2)}\")"
   ]
  },
  {
   "cell_type": "markdown",
   "metadata": {},
   "source": [
    "## 2.2 Defining your Own Strategies / Operators\n",
    "\n",
    "`Atlas` aims to be a framework offering complete flexibility and control over generators. Clearly, in order to achieve this, control over strategies is necessary. `Atlas` makes it easy to create custom strategies (and consequently operators) to use in your generator. As an example, we'll a create a strategy that does DFS in *reverse* i.e. reverses the order of exploration. We will also introduce a new operator `SelectReversed`."
   ]
  },
  {
   "cell_type": "code",
   "execution_count": 8,
   "metadata": {},
   "outputs": [
    {
     "name": "stdout",
     "output_type": "stream",
     "text": [
      "Reversed DFS - 11\n",
      "Reversed DFS - 10\n",
      "Reversed DFS - 01\n",
      "Reversed DFS - 00\n"
     ]
    }
   ],
   "source": [
    "from atlas.operators import operator\n",
    "from atlas.strategies import DfsStrategy\n",
    "\n",
    "class ReversedDfs(DfsStrategy):\n",
    "    @operator\n",
    "    def SelectReversed(self, domain, **kwargs):\n",
    "        yield from reversed(domain)\n",
    "        \n",
    "        \n",
    "@generator\n",
    "def binary(length: int):\n",
    "    s = \"\"\n",
    "    for _ in range(length):\n",
    "        s += SelectReversed([\"0\", \"1\"])\n",
    "        \n",
    "    return s\n",
    "        \n",
    "    \n",
    "for s in binary.with_env(strategy=ReversedDfs()).generate(2):\n",
    "    print(f\"Reversed DFS - {s}\")"
   ]
  },
  {
   "cell_type": "markdown",
   "metadata": {},
   "source": [
    "Operator definitions for strategies that implement `DfsStrategy` need to return an iterator/iterable. We use the native Python generator syntax (using `yield`) that helps us conveniently define this iterator.\n",
    "\n",
    "Let us define a new randomized strategy that uses biased coin tosses to generate the binary strings"
   ]
  },
  {
   "cell_type": "code",
   "execution_count": 9,
   "metadata": {},
   "outputs": [
    {
     "name": "stdout",
     "output_type": "stream",
     "text": [
      "11101\n",
      "11111\n"
     ]
    }
   ],
   "source": [
    "from atlas.strategies import RandStrategy\n",
    "import numpy as np\n",
    "\n",
    "class CoinTossingStrategy(RandStrategy):\n",
    "    @operator\n",
    "    def CoinToss(self, bias, **kwargs):\n",
    "        return np.random.choice([\"0\", \"1\"], p=[1-bias, bias])\n",
    "        \n",
    "        \n",
    "@generator\n",
    "def binary(length: int):\n",
    "    s = \"\"\n",
    "    for _ in range(length):\n",
    "        s += CoinToss(bias=0.75)\n",
    "        \n",
    "    return s\n",
    "\n",
    "binary.set_default_strategy(CoinTossingStrategy())\n",
    "print(binary.call(5))\n",
    "print(binary.call(5))"
   ]
  },
  {
   "cell_type": "markdown",
   "metadata": {},
   "source": [
    "Note how randomized strategies don't need to define iterators. Strategies sub-classing `RandStrategy` can define operators as regular functions. Also note we pass `bias` as a keyword argument in contrast to the `domain` passed as a positional argument in the previous example. In general, operators can use any number of keyword arguments and as long as the generator calls them correctly, `Atlas` will correctly pass the arguments to the operator. However the first positional argument will be stored in the `domain` argument. Also, operators **need** to have a `**kwargs` parameter in order to function correctly."
   ]
  },
  {
   "cell_type": "code",
   "execution_count": null,
   "metadata": {},
   "outputs": [],
   "source": []
  }
 ],
 "metadata": {
  "kernelspec": {
   "display_name": "Python 3",
   "language": "python",
   "name": "python3"
  },
  "language_info": {
   "codemirror_mode": {
    "name": "ipython",
    "version": 3
   },
   "file_extension": ".py",
   "mimetype": "text/x-python",
   "name": "python",
   "nbconvert_exporter": "python",
   "pygments_lexer": "ipython3",
   "version": "3.7.1"
  }
 },
 "nbformat": 4,
 "nbformat_minor": 2
}
